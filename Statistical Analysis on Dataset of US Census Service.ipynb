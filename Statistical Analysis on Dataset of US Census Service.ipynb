{
 "cells": [
  {
   "cell_type": "code",
   "execution_count": 227,
   "id": "5e038049",
   "metadata": {},
   "outputs": [],
   "source": [
    "# Import all the Libraries required for the Data Analysis\n",
    "\n",
    "import numpy as np\n",
    "import pandas as pd\n",
    "import seaborn as sns\n",
    "import matplotlib.pyplot as plt\n",
    "import scipy.stats\n",
    "import statsmodels.api as sm"
   ]
  },
  {
   "cell_type": "code",
   "execution_count": 228,
   "id": "d01b559e",
   "metadata": {},
   "outputs": [],
   "source": [
    "# Fetch Data and convert it into Dataframe for performing Data analysis\n",
    "\n",
    "boston_url = 'https://cf-courses-data.s3.us.cloud-object-storage.appdomain.cloud/IBMDeveloperSkillsNetwork-ST0151EN-SkillsNetwork/labs/boston_housing.csv'\n",
    "boston_df=pd.read_csv(boston_url)"
   ]
  },
  {
   "cell_type": "code",
   "execution_count": 229,
   "id": "2b92c3cf",
   "metadata": {},
   "outputs": [
    {
     "data": {
      "text/html": [
       "<div>\n",
       "<style scoped>\n",
       "    .dataframe tbody tr th:only-of-type {\n",
       "        vertical-align: middle;\n",
       "    }\n",
       "\n",
       "    .dataframe tbody tr th {\n",
       "        vertical-align: top;\n",
       "    }\n",
       "\n",
       "    .dataframe thead th {\n",
       "        text-align: right;\n",
       "    }\n",
       "</style>\n",
       "<table border=\"1\" class=\"dataframe\">\n",
       "  <thead>\n",
       "    <tr style=\"text-align: right;\">\n",
       "      <th></th>\n",
       "      <th>Unnamed: 0</th>\n",
       "      <th>CRIM</th>\n",
       "      <th>ZN</th>\n",
       "      <th>INDUS</th>\n",
       "      <th>CHAS</th>\n",
       "      <th>NOX</th>\n",
       "      <th>RM</th>\n",
       "      <th>AGE</th>\n",
       "      <th>DIS</th>\n",
       "      <th>RAD</th>\n",
       "      <th>TAX</th>\n",
       "      <th>PTRATIO</th>\n",
       "      <th>LSTAT</th>\n",
       "      <th>MEDV</th>\n",
       "    </tr>\n",
       "  </thead>\n",
       "  <tbody>\n",
       "    <tr>\n",
       "      <th>0</th>\n",
       "      <td>0</td>\n",
       "      <td>0.00632</td>\n",
       "      <td>18.0</td>\n",
       "      <td>2.31</td>\n",
       "      <td>0.0</td>\n",
       "      <td>0.538</td>\n",
       "      <td>6.575</td>\n",
       "      <td>65.2</td>\n",
       "      <td>4.0900</td>\n",
       "      <td>1.0</td>\n",
       "      <td>296.0</td>\n",
       "      <td>15.3</td>\n",
       "      <td>4.98</td>\n",
       "      <td>24.0</td>\n",
       "    </tr>\n",
       "    <tr>\n",
       "      <th>1</th>\n",
       "      <td>1</td>\n",
       "      <td>0.02731</td>\n",
       "      <td>0.0</td>\n",
       "      <td>7.07</td>\n",
       "      <td>0.0</td>\n",
       "      <td>0.469</td>\n",
       "      <td>6.421</td>\n",
       "      <td>78.9</td>\n",
       "      <td>4.9671</td>\n",
       "      <td>2.0</td>\n",
       "      <td>242.0</td>\n",
       "      <td>17.8</td>\n",
       "      <td>9.14</td>\n",
       "      <td>21.6</td>\n",
       "    </tr>\n",
       "    <tr>\n",
       "      <th>2</th>\n",
       "      <td>2</td>\n",
       "      <td>0.02729</td>\n",
       "      <td>0.0</td>\n",
       "      <td>7.07</td>\n",
       "      <td>0.0</td>\n",
       "      <td>0.469</td>\n",
       "      <td>7.185</td>\n",
       "      <td>61.1</td>\n",
       "      <td>4.9671</td>\n",
       "      <td>2.0</td>\n",
       "      <td>242.0</td>\n",
       "      <td>17.8</td>\n",
       "      <td>4.03</td>\n",
       "      <td>34.7</td>\n",
       "    </tr>\n",
       "    <tr>\n",
       "      <th>3</th>\n",
       "      <td>3</td>\n",
       "      <td>0.03237</td>\n",
       "      <td>0.0</td>\n",
       "      <td>2.18</td>\n",
       "      <td>0.0</td>\n",
       "      <td>0.458</td>\n",
       "      <td>6.998</td>\n",
       "      <td>45.8</td>\n",
       "      <td>6.0622</td>\n",
       "      <td>3.0</td>\n",
       "      <td>222.0</td>\n",
       "      <td>18.7</td>\n",
       "      <td>2.94</td>\n",
       "      <td>33.4</td>\n",
       "    </tr>\n",
       "    <tr>\n",
       "      <th>4</th>\n",
       "      <td>4</td>\n",
       "      <td>0.06905</td>\n",
       "      <td>0.0</td>\n",
       "      <td>2.18</td>\n",
       "      <td>0.0</td>\n",
       "      <td>0.458</td>\n",
       "      <td>7.147</td>\n",
       "      <td>54.2</td>\n",
       "      <td>6.0622</td>\n",
       "      <td>3.0</td>\n",
       "      <td>222.0</td>\n",
       "      <td>18.7</td>\n",
       "      <td>5.33</td>\n",
       "      <td>36.2</td>\n",
       "    </tr>\n",
       "  </tbody>\n",
       "</table>\n",
       "</div>"
      ],
      "text/plain": [
       "   Unnamed: 0     CRIM    ZN  INDUS  CHAS    NOX     RM   AGE     DIS  RAD  \\\n",
       "0           0  0.00632  18.0   2.31   0.0  0.538  6.575  65.2  4.0900  1.0   \n",
       "1           1  0.02731   0.0   7.07   0.0  0.469  6.421  78.9  4.9671  2.0   \n",
       "2           2  0.02729   0.0   7.07   0.0  0.469  7.185  61.1  4.9671  2.0   \n",
       "3           3  0.03237   0.0   2.18   0.0  0.458  6.998  45.8  6.0622  3.0   \n",
       "4           4  0.06905   0.0   2.18   0.0  0.458  7.147  54.2  6.0622  3.0   \n",
       "\n",
       "     TAX  PTRATIO  LSTAT  MEDV  \n",
       "0  296.0     15.3   4.98  24.0  \n",
       "1  242.0     17.8   9.14  21.6  \n",
       "2  242.0     17.8   4.03  34.7  \n",
       "3  222.0     18.7   2.94  33.4  \n",
       "4  222.0     18.7   5.33  36.2  "
      ]
     },
     "execution_count": 229,
     "metadata": {},
     "output_type": "execute_result"
    }
   ],
   "source": [
    "boston_df.head()"
   ]
  },
  {
   "cell_type": "markdown",
   "id": "23dbbcd2",
   "metadata": {},
   "source": [
    "# Task 4: Generate Descriptive Statistics and Visualizations"
   ]
  },
  {
   "cell_type": "markdown",
   "id": "2ee6ad22",
   "metadata": {},
   "source": [
    "### For the \"Median value of owner-occupied homes\" provide a boxplot"
   ]
  },
  {
   "cell_type": "code",
   "execution_count": 230,
   "id": "5af79fa2",
   "metadata": {},
   "outputs": [
    {
     "data": {
      "image/png": "[encoded data removed]",
      "text/plain": [
       "<Figure size 1000x200 with 1 Axes>"
      ]
     },
     "metadata": {},
     "output_type": "display_data"
    }
   ],
   "source": [
    "# Display a Boxplot for MEDV column.\n",
    "\n",
    "from matplotlib.pyplot import figure\n",
    "plt.figure(figsize=(10,2), dpi=100)\n",
    "sns.boxplot(x=boston_df.MEDV)\n",
    "plt.title(\"Boxplot for Median Value of owner-occupied homes\")\n",
    "plt.show()"
   ]
  },
  {
   "cell_type": "markdown",
   "id": "b221030e",
   "metadata": {},
   "source": [
    "__Remarks:__\n",
    "_The Boxplot shown here corresponds to Median value of owner-occupied homes in $1000's and we can see that there are various outliers below the first quartile. The Median as per the BoxPlot is shown in the plot as approximately 21 or 22._"
   ]
  },
  {
   "cell_type": "markdown",
   "id": "24ccabdc",
   "metadata": {},
   "source": [
    "### Provide a  bar plot for the Charles river variable"
   ]
  },
  {
   "cell_type": "code",
   "execution_count": 231,
   "id": "21e5ca54",
   "metadata": {},
   "outputs": [
    {
     "data": {
      "text/plain": [
       "Text(0.5, 1.0, 'Histogram for Charles river')"
      ]
     },
     "execution_count": 231,
     "metadata": {},
     "output_type": "execute_result"
    },
    {
     "data": {
      "image/png": "[encoded data removed]",
      "text/plain": [
       "<Figure size 311.25x300 with 1 Axes>"
      ]
     },
     "metadata": {},
     "output_type": "display_data"
    }
   ],
   "source": [
    "## Display a Histogram for the Charles River dummy variable which is a Dummy Variable.\n",
    "\n",
    "sns.catplot(x='CHAS', kind='count', data = boston_df, height=3, aspect=83/80)\n",
    "plt.title(\"Histogram for Charles river\")"
   ]
  },
  {
   "cell_type": "markdown",
   "id": "389550fd",
   "metadata": {},
   "source": [
    "__Remarks__\n",
    "_The Histogram shows the Frequency Distribution for Charles River dummy variable where (1 if tract bounds river, 0 otherwise)_"
   ]
  },
  {
   "cell_type": "markdown",
   "id": "51956b5f",
   "metadata": {},
   "source": [
    "### Provide a boxplot for the MEDV variable vs the AGE variable. (Discretize the age variable into three groups of 35 years and younger, between 35 and 70 years and 70 years and older)"
   ]
  },
  {
   "cell_type": "code",
   "execution_count": 232,
   "id": "56d6f8fc",
   "metadata": {},
   "outputs": [
    {
     "data": {
      "text/plain": [
       "Text(0.5, 1.0, 'Boxplot for the MEDV variable vs the age_group')"
      ]
     },
     "execution_count": 232,
     "metadata": {},
     "output_type": "execute_result"
    },
    {
     "data": {
      "image/png": "[encoded data removed]",
      "text/plain": [
       "<Figure size 800x200 with 1 Axes>"
      ]
     },
     "metadata": {},
     "output_type": "display_data"
    }
   ],
   "source": [
    "# Discretize the AGE column into three groups for Data analysis\n",
    "\n",
    "boston_df.loc[(boston_df['AGE'] <= 35), 'age_group'] = '35 years and younger'\n",
    "boston_df.loc[(boston_df['AGE'] > 35)&(boston_df['AGE'] < 70), 'age_group'] = 'between 35 and 70 years'\n",
    "boston_df.loc[(boston_df['AGE'] >= 70), 'age_group'] = '70 years and older'\n",
    "\n",
    "plt.figure(figsize=(8,2))\n",
    "sns.boxplot(x=boston_df.MEDV, y=boston_df.age_group, data=boston_df)\n",
    "plt.title(\"Boxplot for the MEDV variable vs the age_group\")"
   ]
  },
  {
   "cell_type": "markdown",
   "id": "0d793061",
   "metadata": {},
   "source": [
    "__Conclusion:__\n",
    "_The Boxplot corresponds to the three groups in the AGE column.<br>\n",
    "The Median for the group \"35 years and younger\" is approximately 25, median for \"70 years and older\" is approximately 18 and median for group \"Between 35 and 70 years\" is approximately 22.<br>\n",
    "The boxplot above shows that on average the median value of owner occupied homes is higher when the Age is lower.<br>\n",
    "There are number of outliers for each category corrsponding to MEDV as well._"
   ]
  },
  {
   "cell_type": "markdown",
   "id": "3bce0e4c",
   "metadata": {},
   "source": [
    "### Provide a scatter plot to show the relationship between Nitric oxide concentrations and the proportion of non-retail business acres per town. What can you say about the relationship?"
   ]
  },
  {
   "cell_type": "code",
   "execution_count": 233,
   "id": "4104060a",
   "metadata": {},
   "outputs": [
    {
     "data": {
      "text/plain": [
       "Text(0.5, 1.0, 'Relationship between NOX and INDUS')"
      ]
     },
     "execution_count": 233,
     "metadata": {},
     "output_type": "execute_result"
    },
    {
     "data": {
      "image/png": "[encoded data removed]",
      "text/plain": [
       "<Figure size 400x300 with 1 Axes>"
      ]
     },
     "metadata": {},
     "output_type": "display_data"
    }
   ],
   "source": [
    "# ScatterPlot for correlation between the INDUS and NOX column.\n",
    "\n",
    "sns.set()\n",
    "fig, ax = plt.subplots(figsize=(4,3))\n",
    "sns.scatterplot(x=boston_df.NOX, y=boston_df.INDUS, data=boston_df)\n",
    "plt.title(\"Relationship between NOX and INDUS\")"
   ]
  },
  {
   "cell_type": "markdown",
   "id": "9fab3618",
   "metadata": {},
   "source": [
    "__Conclusion:__\n",
    "_There exists a positive correlation between the Nitric Oxides concentration NOX(parts per 10 million) and Proportion of non-retail business (INDUS) acres per town because of a linear relationship found among both variables.<br>\n",
    "It shows a positive sloping relationship between the two variables till 0.6 ppm of NOX, after which the INDUS values almost remain same while NOX increases.<br>\n",
    "It indicates a strong relation between the variables at bottom-left section.<br>\n",
    "Both variables shows an increasing propotional effects among each other._"
   ]
  },
  {
   "cell_type": "markdown",
   "id": "e3da1bbe",
   "metadata": {},
   "source": [
    "### Create a histogram for the pupil to teacher ratio variable"
   ]
  },
  {
   "cell_type": "code",
   "execution_count": 234,
   "id": "039ba027",
   "metadata": {},
   "outputs": [
    {
     "data": {
      "text/plain": [
       "Text(0.5, 1.0, 'Histogram for the pupil to teacher ratio variable')"
      ]
     },
     "execution_count": 234,
     "metadata": {},
     "output_type": "execute_result"
    },
    {
     "data": {
      "image/png": "[encoded data removed]",
      "text/plain": [
       "<Figure size 400x400 with 1 Axes>"
      ]
     },
     "metadata": {},
     "output_type": "display_data"
    }
   ],
   "source": [
    "# Histogram for the PTRATIO column.\n",
    "\n",
    "sns.displot(data=boston_df, x='PTRATIO', bins=10, height=4, aspect=1, kde = True)\n",
    "plt.title(\"Histogram for the pupil to teacher ratio variable\")"
   ]
  },
  {
   "cell_type": "markdown",
   "id": "f9fca06a",
   "metadata": {},
   "source": [
    "__Conclusion:__<br>\n",
    "_The distribution is skewed to the left as the tail of the histogram is towards the 12 on the x-axis.<br>\n",
    "The graph shows a Left-skewed / Negative-skewed distribution._"
   ]
  },
  {
   "cell_type": "markdown",
   "id": "909b3448",
   "metadata": {},
   "source": [
    "# Task 5: Use the appropriate tests to answer the questions provided."
   ]
  },
  {
   "cell_type": "markdown",
   "id": "12734fb6",
   "metadata": {},
   "source": [
    "### Is there a significant difference in median value of houses bounded by the Charles river or not?<br> (T-test for independent samples)"
   ]
  },
  {
   "cell_type": "markdown",
   "id": "68c94ec5",
   "metadata": {},
   "source": [
    "__Hypothesis:__<br>\n",
    " - Null Hypothesis:<br> H<sub>0</sub> : µ<sub>1</sub> = µ<sub>2</sub> : \"There is no difference in median value of houses bounded by the Charles river<br>\n",
    " - Alternate Hypothesis:<br> H<sub>a</sub> : µ<sub>1</sub> ≠ µ<sub>2</sub> : \"There is a difference in median value of houses bounded by the Charles river\""
   ]
  },
  {
   "cell_type": "code",
   "execution_count": 235,
   "id": "9ccc404b",
   "metadata": {},
   "outputs": [
    {
     "data": {
      "text/plain": [
       "LeveneResult(statistic=532.6811164157676, pvalue=5.40253511973145e-95)"
      ]
     },
     "execution_count": 235,
     "metadata": {},
     "output_type": "execute_result"
    }
   ],
   "source": [
    "# Run Levene's Test to check test significance\n",
    "\n",
    "scipy.stats.levene(boston_df['MEDV'], boston_df['CHAS'], center = 'mean')"
   ]
  },
  {
   "cell_type": "markdown",
   "id": "d4cd59cd",
   "metadata": {},
   "source": [
    "_Here p-value is less than α-value 0.05_"
   ]
  },
  {
   "cell_type": "code",
   "execution_count": 236,
   "id": "65377df8",
   "metadata": {},
   "outputs": [
    {
     "data": {
      "text/plain": [
       "Ttest_indResult(statistic=-3.113291312794837, pvalue=0.003567170098137517)"
      ]
     },
     "execution_count": 236,
     "metadata": {},
     "output_type": "execute_result"
    }
   ],
   "source": [
    "# Run T-test\n",
    "\n",
    "scipy.stats.ttest_ind(boston_df[boston_df['CHAS'] == 0]['MEDV'],\n",
    "                   boston_df[boston_df['CHAS'] == 1]['MEDV'], equal_var = False)"
   ]
  },
  {
   "cell_type": "markdown",
   "id": "72d6eaed",
   "metadata": {},
   "source": [
    "__Conclusion:__<br>\n",
    "_Since p-value is less than α-value 0.05, <br>\n",
    "We reject the null hypothesis as <br>\n",
    "There is enough proof that there is a statistical difference in median value of houses bounded by the Charles river._"
   ]
  },
  {
   "cell_type": "markdown",
   "id": "4d750e9c",
   "metadata": {},
   "source": [
    "### Is there a difference in Median values of houses (MEDV) for each proportion of owner occupied units built prior to 1940 (AGE)? (ANOVA)"
   ]
  },
  {
   "cell_type": "markdown",
   "id": "ae2e66fe",
   "metadata": {},
   "source": [
    "One-way ANOVA can't work with continuous variable (AGE), so<br>\n",
    "We need grouping of AGE variable to represent the data as categorical.<br>\n",
    " - 35 years and younger<br>\n",
    " - Between 35 and 70 years<br>\n",
    " - 70 years and older<br>"
   ]
  },
  {
   "cell_type": "code",
   "execution_count": 237,
   "id": "0ba790a3",
   "metadata": {},
   "outputs": [],
   "source": [
    "# Grouping of AGE data values\n",
    "\n",
    "boston_df.loc[boston_df['AGE'] <= 35, 'Age_Group'] = \"35 and younger\"\n",
    "boston_df.loc[(boston_df['AGE'] > 35) & (boston_df['AGE'] < 70), 'Age_Group'] = \"Between 35 and 70\"\n",
    "boston_df.loc[(boston_df['AGE'] >= 70), 'Age_Group'] = \"70 and older\""
   ]
  },
  {
   "cell_type": "markdown",
   "id": "14740493",
   "metadata": {},
   "source": [
    "__Hypothesis:__<br>\n",
    " - Null Hypothesis:<br> H<sub>0</sub> : µ<sub>1</sub> = µ<sub>2</sub> = µ<sub>3</sub> : \"All the three population means are equal\"<br>\n",
    " - Alternate Hypothesis:<br> H<sub>a</sub> : \"At least one of the means differ\""
   ]
  },
  {
   "cell_type": "code",
   "execution_count": 238,
   "id": "1d04a4d3",
   "metadata": {},
   "outputs": [
    {
     "data": {
      "text/plain": [
       "LeveneResult(statistic=2.780620029374844, pvalue=0.06295337343259205)"
      ]
     },
     "execution_count": 238,
     "metadata": {},
     "output_type": "execute_result"
    }
   ],
   "source": [
    "# Run Levene's Test to check for equality of variance\n",
    "\n",
    "scipy.stats.levene(boston_df[boston_df['Age_Group'] == \"35 and younger\"]['MEDV'],\n",
    "                   boston_df[boston_df['Age_Group'] == \"Between 35 and 70\"]['MEDV'], \n",
    "                   boston_df[boston_df['Age_Group'] == \"70 and older\"]['MEDV'], \n",
    "                   center='mean')"
   ]
  },
  {
   "cell_type": "markdown",
   "id": "64bac99a",
   "metadata": {},
   "source": [
    "__Remarks:<br>__\n",
    "_Here p-value is greater than α-value 0.05._"
   ]
  },
  {
   "cell_type": "code",
   "execution_count": 239,
   "id": "a4bbe5ed",
   "metadata": {},
   "outputs": [],
   "source": [
    "# Separate the three samples (one for each category) assigned to three variables for each one.\n",
    "\n",
    "thirtyfive_younger = boston_df[boston_df['Age_Group'] == \"35 and younger\"]['MEDV']\n",
    "btw_thirtyfive_seventy = boston_df[boston_df['Age_Group'] == \"Between 35 and 70\"]['MEDV']\n",
    "seventy_older = boston_df[boston_df['Age_Group'] == \"70 and older\"]['MEDV']"
   ]
  },
  {
   "cell_type": "code",
   "execution_count": 240,
   "id": "bb56a27e",
   "metadata": {},
   "outputs": [
    {
     "data": {
      "text/plain": [
       "F_onewayResult(statistic=36.40764999196599, pvalue=1.7105011022702984e-15)"
      ]
     },
     "execution_count": 240,
     "metadata": {},
     "output_type": "execute_result"
    }
   ],
   "source": [
    "# Now, run one-way ANOVA.\n",
    "\n",
    "scipy.stats.f_oneway(thirtyfive_younger, btw_thirtyfive_seventy, seventy_older)"
   ]
  },
  {
   "cell_type": "markdown",
   "id": "e0e89c2e",
   "metadata": {},
   "source": [
    "__Conclusion:__<br>\n",
    "_Since the p-value is less than α-value 0.05,<br>\n",
    "We reject the null hypothesis, as there is enough proof that <br>\n",
    "There is a statistical difference in Median values of houses (MEDV) for each proportion of owner occupied units built prior to 1940 (AGE)._"
   ]
  },
  {
   "cell_type": "markdown",
   "id": "ee4a60b5",
   "metadata": {},
   "source": [
    "### Can we conclude that there is no relationship between Nitric oxide concentrations and proportion of non-retail business acres per town? (Pearson Correlation)"
   ]
  },
  {
   "cell_type": "markdown",
   "id": "bf41b82b",
   "metadata": {},
   "source": [
    "__Hypothesis:__<br>\n",
    " - Null Hypothesis:<br> H<sub>0</sub> : \"There is no relationship between Nitric oxide concentrations and proportion of non-retail business acres per town.\"<br>\n",
    " - Alternate Hypothesis:<br> H<sub>a</sub> : \"There is a relationship between Nitric oxide concentrations and proportion of non-retail business acres per town.\""
   ]
  },
  {
   "cell_type": "code",
   "execution_count": 241,
   "id": "2c095d3c",
   "metadata": {},
   "outputs": [
    {
     "data": {
      "text/plain": [
       "PearsonRResult(statistic=0.7636514469209151, pvalue=7.913361061238693e-98)"
      ]
     },
     "execution_count": 241,
     "metadata": {},
     "output_type": "execute_result"
    }
   ],
   "source": [
    "# Run Pearson Correlation Test\n",
    "\n",
    "scipy.stats.pearsonr(boston_df['INDUS'], boston_df['NOX'])"
   ]
  },
  {
   "cell_type": "markdown",
   "id": "cdeec2b2",
   "metadata": {},
   "source": [
    "__Conclusion:__<br>\n",
    "_Since the p-value is less than α-value 0.05,<br>\n",
    "We reject the Null hypothesis and conclude that<br>\n",
    "There exists a relationship between Nitric oxide concentrations and proportion of Non-retail business acres per town._"
   ]
  },
  {
   "cell_type": "markdown",
   "id": "0277a585",
   "metadata": {},
   "source": [
    "### What is the impact of an additional weighted distance  to the five Boston employment centres on the median value of owner occupied homes? (Regression analysis)"
   ]
  },
  {
   "cell_type": "markdown",
   "id": "84af0bc1",
   "metadata": {},
   "source": [
    "__Hypothesis:__<br>\n",
    " - Null Hypothesis:<br> H<sub>0</sub> : β<sub>1</sub> = 0<br>\n",
    "\"There is no impact of an additional weighted distance to the five Boston employment centres on the median value of owner occupied homes.\"<br>\n",
    " - Alternate Hypothesis : <br> H<sub>a</sub> : β<sub>1</sub> ≠ 0<br>\n",
    "\"There is an impact of an additional weighted distance to the five Boston employment centres on the median value of owner occupied homes.\""
   ]
  },
  {
   "cell_type": "code",
   "execution_count": 242,
   "id": "7a16435e",
   "metadata": {},
   "outputs": [
    {
     "data": {
      "text/html": [
       "<table class=\"simpletable\">\n",
       "<caption>OLS Regression Results</caption>\n",
       "<tr>\n",
       "  <th>Dep. Variable:</th>          <td>MEDV</td>       <th>  R-squared:         </th> <td>   0.062</td>\n",
       "</tr>\n",
       "<tr>\n",
       "  <th>Model:</th>                   <td>OLS</td>       <th>  Adj. R-squared:    </th> <td>   0.061</td>\n",
       "</tr>\n",
       "<tr>\n",
       "  <th>Method:</th>             <td>Least Squares</td>  <th>  F-statistic:       </th> <td>   33.58</td>\n",
       "</tr>\n",
       "<tr>\n",
       "  <th>Date:</th>             <td>Fri, 31 Mar 2023</td> <th>  Prob (F-statistic):</th> <td>1.21e-08</td>\n",
       "</tr>\n",
       "<tr>\n",
       "  <th>Time:</th>                 <td>22:38:15</td>     <th>  Log-Likelihood:    </th> <td> -1823.9</td>\n",
       "</tr>\n",
       "<tr>\n",
       "  <th>No. Observations:</th>      <td>   506</td>      <th>  AIC:               </th> <td>   3652.</td>\n",
       "</tr>\n",
       "<tr>\n",
       "  <th>Df Residuals:</th>          <td>   504</td>      <th>  BIC:               </th> <td>   3660.</td>\n",
       "</tr>\n",
       "<tr>\n",
       "  <th>Df Model:</th>              <td>     1</td>      <th>                     </th>     <td> </td>   \n",
       "</tr>\n",
       "<tr>\n",
       "  <th>Covariance Type:</th>      <td>nonrobust</td>    <th>                     </th>     <td> </td>   \n",
       "</tr>\n",
       "</table>\n",
       "<table class=\"simpletable\">\n",
       "<tr>\n",
       "    <td></td>       <th>coef</th>     <th>std err</th>      <th>t</th>      <th>P>|t|</th>  <th>[0.025</th>    <th>0.975]</th>  \n",
       "</tr>\n",
       "<tr>\n",
       "  <th>const</th> <td>   18.3901</td> <td>    0.817</td> <td>   22.499</td> <td> 0.000</td> <td>   16.784</td> <td>   19.996</td>\n",
       "</tr>\n",
       "<tr>\n",
       "  <th>DIS</th>   <td>    1.0916</td> <td>    0.188</td> <td>    5.795</td> <td> 0.000</td> <td>    0.722</td> <td>    1.462</td>\n",
       "</tr>\n",
       "</table>\n",
       "<table class=\"simpletable\">\n",
       "<tr>\n",
       "  <th>Omnibus:</th>       <td>139.779</td> <th>  Durbin-Watson:     </th> <td>   0.570</td>\n",
       "</tr>\n",
       "<tr>\n",
       "  <th>Prob(Omnibus):</th> <td> 0.000</td>  <th>  Jarque-Bera (JB):  </th> <td> 305.104</td>\n",
       "</tr>\n",
       "<tr>\n",
       "  <th>Skew:</th>          <td> 1.466</td>  <th>  Prob(JB):          </th> <td>5.59e-67</td>\n",
       "</tr>\n",
       "<tr>\n",
       "  <th>Kurtosis:</th>      <td> 5.424</td>  <th>  Cond. No.          </th> <td>    9.32</td>\n",
       "</tr>\n",
       "</table><br/><br/>Notes:<br/>[1] Standard Errors assume that the covariance matrix of the errors is correctly specified."
      ],
      "text/plain": [
       "<class 'statsmodels.iolib.summary.Summary'>\n",
       "\"\"\"\n",
       "                            OLS Regression Results                            \n",
       "==============================================================================\n",
       "Dep. Variable:                   MEDV   R-squared:                       0.062\n",
       "Model:                            OLS   Adj. R-squared:                  0.061\n",
       "Method:                 Least Squares   F-statistic:                     33.58\n",
       "Date:                Fri, 31 Mar 2023   Prob (F-statistic):           1.21e-08\n",
       "Time:                        22:38:15   Log-Likelihood:                -1823.9\n",
       "No. Observations:                 506   AIC:                             3652.\n",
       "Df Residuals:                     504   BIC:                             3660.\n",
       "Df Model:                           1                                         \n",
       "Covariance Type:            nonrobust                                         \n",
       "==============================================================================\n",
       "                 coef    std err          t      P>|t|      [0.025      0.975]\n",
       "------------------------------------------------------------------------------\n",
       "const         18.3901      0.817     22.499      0.000      16.784      19.996\n",
       "DIS            1.0916      0.188      5.795      0.000       0.722       1.462\n",
       "==============================================================================\n",
       "Omnibus:                      139.779   Durbin-Watson:                   0.570\n",
       "Prob(Omnibus):                  0.000   Jarque-Bera (JB):              305.104\n",
       "Skew:                           1.466   Prob(JB):                     5.59e-67\n",
       "Kurtosis:                       5.424   Cond. No.                         9.32\n",
       "==============================================================================\n",
       "\n",
       "Notes:\n",
       "[1] Standard Errors assume that the covariance matrix of the errors is correctly specified.\n",
       "\"\"\""
      ]
     },
     "execution_count": 242,
     "metadata": {},
     "output_type": "execute_result"
    }
   ],
   "source": [
    "# X is the input variables (or independent variables)\n",
    "X = boston_df['DIS']\n",
    "\n",
    "# y is the target/dependent variable\n",
    "y = boston_df['MEDV']\n",
    "\n",
    "# add an intercept (beta_0) to our model\n",
    "X = sm.add_constant(X) \n",
    "\n",
    "model = sm.OLS(y, X).fit()\n",
    "predictions = model.predict(X)\n",
    "\n",
    "# Print out the statistics\n",
    "model.summary()"
   ]
  },
  {
   "cell_type": "markdown",
   "id": "a7a25c94",
   "metadata": {},
   "source": [
    "__Conclusion:__\n",
    "Here, p-value is less than the α-value 0.05, so<br>\n",
    "We reject the null hypothesis as there is evidence that<br>\n",
    "There is impact of an additional weighted distance to the five Boston employment centres on the median value of owner occupied homes.<br>\n",
    "The coefficient DIST is positive 1.0916 which also signifies that<br>\n",
    "The impact increases by 1.0916 when there is an additional weighted distance to the five Boston employment centres."
   ]
  }
 ],
 "metadata": {
  "kernelspec": {
   "display_name": "Python 3 (ipykernel)",
   "language": "python",
   "name": "python3"
  },
  "language_info": {
   "codemirror_mode": {
    "name": "ipython",
    "version": 3
   },
   "file_extension": ".py",
   "mimetype": "text/x-python",
   "name": "python",
   "nbconvert_exporter": "python",
   "pygments_lexer": "ipython3",
   "version": "3.9.13"
  }
 },
 "nbformat": 4,
 "nbformat_minor": 5
}
